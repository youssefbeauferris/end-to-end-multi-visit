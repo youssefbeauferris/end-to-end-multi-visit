{
 "cells": [
  {
   "cell_type": "code",
   "execution_count": 1,
   "id": "435c3426",
   "metadata": {
    "scrolled": true
   },
   "outputs": [],
   "source": [
    "import glob\n",
    "import nibabel\n",
    "import sys\n",
    "import nibabel as nib\n",
    "import numpy as np\n",
    "import matplotlib.pyplot as plt\n",
    "MY_UTILS_PATH = \"../src/\"\n",
    "if not MY_UTILS_PATH in sys.path:\n",
    "    sys.path.append(MY_UTILS_PATH)\n",
    "import metrics"
   ]
  },
  {
   "cell_type": "code",
   "execution_count": 2,
   "id": "e0c5bea9",
   "metadata": {
    "scrolled": true
   },
   "outputs": [
    {
     "name": "stdout",
     "output_type": "stream",
     "text": [
      "[['TUM04-20171108.nii' 'TUM04-20190328.nii']\n",
      " ['TUM04-20180618.nii' 'TUM04-20181009.nii']\n",
      " ['TUM20-20180205.nii' 'TUM20-20180402.nii']\n",
      " ['TUM10-20171018.nii' 'TUM10-20180122.nii']\n",
      " ['TUM10-20171018.nii' 'TUM10-20180307.nii']\n",
      " ['TUM15-20170531.nii' 'TUM15-20170801.nii']\n",
      " ['TUM15-20170801.nii' 'TUM15-20170816.nii']]\n"
     ]
    }
   ],
   "source": [
    "test_files = np.loadtxt('../data/test.txt',dtype=str)\n",
    "print(test_files)"
   ]
  },
  {
   "cell_type": "code",
   "execution_count": 3,
   "id": "c79ab7d1",
   "metadata": {},
   "outputs": [],
   "source": [
    "#file pathes\n",
    "predicted_path = '../data/predicted/10x-transfer-0-1-no-dc/'\n",
    "#previous_path = '../data/reference_reg_10x/'\n",
    "previous_path = '../../../my-repos/multi-visit-isbi-2022/data/reference_reg_10x-iki/'\n",
    "ref_path = '../../../data/brain-cancer/'"
   ]
  },
  {
   "cell_type": "code",
   "execution_count": 4,
   "id": "84893dc5",
   "metadata": {},
   "outputs": [],
   "source": [
    "#file ids with pathes\n",
    "initial_files = [predicted_path + file[:-4] + '_single_visit.nii' for file in test_files[:,1]]\n",
    "previous_files = [previous_path + 'elastic_' + file[0][:-4] + '_' + file[1] for file in test_files]\n",
    "enhanced_files = [predicted_path + file[:-4] + '_multi_visit.nii' for file in test_files[:,1]]\n",
    "ref_files = [ref_path + file for file in test_files[:,1]]"
   ]
  },
  {
   "cell_type": "code",
   "execution_count": 5,
   "id": "7be9e481",
   "metadata": {},
   "outputs": [],
   "source": [
    "init_mets = []\n",
    "prev_mets = []\n",
    "enh_mets = []\n",
    "for ii in range(len(test_files)):\n",
    "    init = nib.load(initial_files[ii]).get_fdata()[:,:,20:-20]\n",
    "    prev = nib.load(previous_files[ii]).get_fdata()[:,:,20:-20]\n",
    "    enh = nib.load(enhanced_files[ii]).get_fdata()[:,:,20:-20]\n",
    "    ref = nib.load(ref_files[ii]).get_fdata()[:,:,20:-20]\n",
    "    \n",
    "    init = np.swapaxes(init,0,2)\n",
    "    prev = np.swapaxes(prev,0,2)\n",
    "    enh = np.swapaxes(enh,0,2)\n",
    "    ref = np.swapaxes(ref,0,2)\n",
    "    \n",
    "    init = init / np.abs(init).max()\n",
    "    prev = prev / np.abs(prev).max()\n",
    "    enh = enh / np.abs(enh).max()\n",
    "    ref = ref / np.abs(ref).max()\n",
    "    \n",
    "    init_mets.append(metrics.metrics(init,ref))\n",
    "    enh_mets.append(metrics.metrics(enh,ref))\n",
    "    prev_mets.append(metrics.metrics(prev,ref))\n",
    "    "
   ]
  },
  {
   "cell_type": "code",
   "execution_count": 6,
   "id": "20aaf15c",
   "metadata": {
    "scrolled": false
   },
   "outputs": [],
   "source": [
    "#print(init.shape, prev.shape, enh.shape, ref.shape)"
   ]
  },
  {
   "cell_type": "code",
   "execution_count": 7,
   "id": "99eb8047",
   "metadata": {
    "scrolled": true
   },
   "outputs": [
    {
     "name": "stdout",
     "output_type": "stream",
     "text": [
      "0.9629043832054572\n",
      "0.9576604460273185\n",
      "0.9216100487016041\n",
      "0.9585595817780248\n",
      "0.961021965296763\n",
      "0.9546896832416961\n",
      "0.9429379041861655\n"
     ]
    }
   ],
   "source": [
    "init_ssim = []\n",
    "enh_ssim = []\n",
    "for ii in range(len(init_mets)):\n",
    "    init_ssim.append(init_mets[ii][0])\n",
    "    enh_ssim.append(enh_mets[ii][0])\n",
    "    print(enh_mets[ii][0].mean())"
   ]
  },
  {
   "cell_type": "code",
   "execution_count": 8,
   "id": "e70b40f8",
   "metadata": {},
   "outputs": [],
   "source": [
    "init_ssim = np.concatenate(init_ssim,axis=0)\n",
    "enh_ssim = np.concatenate(enh_ssim,axis=0)"
   ]
  },
  {
   "cell_type": "code",
   "execution_count": 9,
   "id": "319b9bc4",
   "metadata": {
    "scrolled": true
   },
   "outputs": [
    {
     "data": {
      "text/plain": [
       "0.8649802408046536"
      ]
     },
     "execution_count": 9,
     "metadata": {},
     "output_type": "execute_result"
    }
   ],
   "source": [
    "init_ssim.mean()"
   ]
  },
  {
   "cell_type": "code",
   "execution_count": 10,
   "id": "0065c868",
   "metadata": {},
   "outputs": [
    {
     "data": {
      "text/plain": [
       "0.9503223411123868"
      ]
     },
     "execution_count": 10,
     "metadata": {},
     "output_type": "execute_result"
    }
   ],
   "source": [
    "enh_ssim.mean()"
   ]
  },
  {
   "cell_type": "markdown",
   "id": "dc122cf1",
   "metadata": {},
   "source": [
    "# 10x-bs-5 loss 05-05\n",
    "\n",
    "SSIM for single visit data 0.8790318484744687, SSIM for multi-visit data 0.912305581132621"
   ]
  },
  {
   "cell_type": "code",
   "execution_count": 11,
   "id": "23f2088b",
   "metadata": {},
   "outputs": [
    {
     "data": {
      "text/plain": [
       "0.8803566400678142"
      ]
     },
     "execution_count": 11,
     "metadata": {},
     "output_type": "execute_result"
    }
   ],
   "source": [
    "0.8803566400678142"
   ]
  },
  {
   "cell_type": "code",
   "execution_count": 12,
   "id": "508f9f3d",
   "metadata": {},
   "outputs": [
    {
     "data": {
      "text/plain": [
       "0.9244070451712295"
      ]
     },
     "execution_count": 12,
     "metadata": {},
     "output_type": "execute_result"
    }
   ],
   "source": [
    "0.9244070451712295"
   ]
  }
 ],
 "metadata": {
  "kernelspec": {
   "display_name": "Python 3",
   "language": "python",
   "name": "python3"
  },
  "language_info": {
   "codemirror_mode": {
    "name": "ipython",
    "version": 3
   },
   "file_extension": ".py",
   "mimetype": "text/x-python",
   "name": "python",
   "nbconvert_exporter": "python",
   "pygments_lexer": "ipython3",
   "version": "3.8.8"
  },
  "toc": {
   "base_numbering": 1,
   "nav_menu": {},
   "number_sections": true,
   "sideBar": true,
   "skip_h1_title": false,
   "title_cell": "Table of Contents",
   "title_sidebar": "Contents",
   "toc_cell": false,
   "toc_position": {},
   "toc_section_display": true,
   "toc_window_display": false
  },
  "varInspector": {
   "cols": {
    "lenName": 16,
    "lenType": 16,
    "lenVar": 40
   },
   "kernels_config": {
    "python": {
     "delete_cmd_postfix": "",
     "delete_cmd_prefix": "del ",
     "library": "var_list.py",
     "varRefreshCmd": "print(var_dic_list())"
    },
    "r": {
     "delete_cmd_postfix": ") ",
     "delete_cmd_prefix": "rm(",
     "library": "var_list.r",
     "varRefreshCmd": "cat(var_dic_list()) "
    }
   },
   "types_to_exclude": [
    "module",
    "function",
    "builtin_function_or_method",
    "instance",
    "_Feature"
   ],
   "window_display": false
  }
 },
 "nbformat": 4,
 "nbformat_minor": 5
}
